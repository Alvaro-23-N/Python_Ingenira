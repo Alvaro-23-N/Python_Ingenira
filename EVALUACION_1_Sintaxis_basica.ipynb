{
  "nbformat": 4,
  "nbformat_minor": 0,
  "metadata": {
    "colab": {
      "provenance": [],
      "include_colab_link": true
    },
    "kernelspec": {
      "name": "python3",
      "display_name": "Python 3"
    },
    "language_info": {
      "name": "python"
    }
  },
  "cells": [
    {
      "cell_type": "markdown",
      "metadata": {
        "id": "view-in-github",
        "colab_type": "text"
      },
      "source": [
        "<a href=\"https://colab.research.google.com/github/Alvaro-23-N/Python_Ingenira/blob/main/EVALUACION_1_Sintaxis_basica.ipynb\" target=\"_parent\"><img src=\"https://colab.research.google.com/assets/colab-badge.svg\" alt=\"Open In Colab\"/></a>"
      ]
    },
    {
      "cell_type": "markdown",
      "source": [
        "# EVALUACION 1"
      ],
      "metadata": {
        "id": "-eSm-KGNd0Jq"
      }
    },
    {
      "cell_type": "markdown",
      "source": [
        "**Problem #1: **\n",
        "letter_frequency Write a program that receives a sentence from the user and displays how many times each unique letter appears. Ignore spaces and make the comparison case-insensitive (i.e., treat 'A' and 'a' as the same letter).\n",
        "\n",
        "Bonus: Display the results sorted from the most frequent to the least frequent letter."
      ],
      "metadata": {
        "id": "fmU84nWldLCM"
      }
    },
    {
      "cell_type": "code",
      "execution_count": 2,
      "metadata": {
        "id": "vn4ScTigdH5S",
        "colab": {
          "base_uri": "https://localhost:8080/"
        },
        "outputId": "186ecd65-6380-4381-8645-868062330005"
      },
      "outputs": [
        {
          "output_type": "stream",
          "name": "stdout",
          "text": [
            "Escriba su frase: TangAmanDaPio\n",
            "Frecuencia de letras: \n",
            "'a': 4\n",
            "'n': 2\n",
            "'t': 1\n",
            "'g': 1\n",
            "'m': 1\n",
            "'d': 1\n",
            "'p': 1\n",
            "'i': 1\n",
            "'o': 1\n"
          ]
        }
      ],
      "source": [
        "#INPUTS\n",
        "sentence = input(\"Escriba su frase: \") #TOMA UNA FRASE\n",
        "\n",
        "#OUTPUTS\n",
        "def count_letters(sentence):\n",
        "  letter_count = {}\n",
        "  cleaner_sentence = sentence.replace(\" \", \"\").lower() #QUITAR TODOS LOS ESPACIOS Y CONVERTIRLOS EN MINUSCULA\n",
        "  for letter in cleaner_sentence:\n",
        "    if 'a' <= letter <= 'z': #FILTRA SOLO LAS LETRAS DEL ABECEDARIO\n",
        "      if letter in letter_count:\n",
        "        letter_count[letter] += 1 # SI LA LETRA ESTA EN EL DICIONARIO 'letter_count' SU CONTADOR AUMENTA 1\n",
        "      else:\n",
        "        letter_count[letter] = 1 #SINO SU VALOR INICIAL ES 1\n",
        "  return letter_count\n",
        "\n",
        "def sort_by_frequency(letter_count): #ORDENAR LAS LETRAS\n",
        "  letter_sort = sorted(letter_count.items(), key=lambda item: item[1], reverse=True)\n",
        "  return letter_sort\n",
        "\n",
        "#IMPRIME LAS LETRAS EN ORDEN DESENDENTE\n",
        "letter_count = count_letters(sentence)\n",
        "sorted_letters_and_counts = sort_by_frequency(letter_count)\n",
        "\n",
        "#TEST1\n",
        "print(\"Frecuencia de letras: \")\n",
        "for letter, count in sorted_letters_and_counts:\n",
        "    print(f\"'{letter}': {count}\")"
      ]
    },
    {
      "cell_type": "markdown",
      "source": [
        "**Problem #2**:\n",
        "word_initial_count Write a program that receives a list of words and counts how many of them start with the same initial letter. Ignore case sensitivity."
      ],
      "metadata": {
        "id": "_Pvum5MjdcAm"
      }
    },
    {
      "cell_type": "code",
      "source": [
        "#INPUTS\n",
        "users_date=input(\"Escribe varias palabras: \") #CREAR UN LISTA DE PALABRAS\n",
        "words=users_date.split() #SEPARA LAS PALABRAS POR ESPACIOS\n",
        "\n",
        "#OUTPUTS\n",
        "def count_initial_letters(words): #CONTAR LAS PALABRAS QUE EMPIEZAN CON CADA LETRA INICIAL\n",
        "    letter_count={} #SE CREA UN DICIONARIO VACIO\n",
        "\n",
        "    for word in words: #LA PRIMERA LETRA SE AÑADE A 'word'\n",
        "        first_letter=word[0].lower() #LA PASA A MINUSCULA\n",
        "\n",
        "        if first_letter in letter_count:\n",
        "            letter_count[first_letter]+=1 #SI LA LETRA INICIAL ESTA EN EL DICIONARIO + 1\n",
        "        else:\n",
        "            letter_count[first_letter]=1 #SI NO AÑADE VALOR INICAL 1\n",
        "\n",
        "    return letter_count\n",
        "\n",
        "#TEST1\n",
        "print(\"lista: \", count_initial_letters(words)) #LLAMA A LA FUNCION 'count_initial_letters' CON LA LISTA 'words'"
      ],
      "metadata": {
        "id": "HvVqB4uYdjwh"
      },
      "execution_count": null,
      "outputs": []
    },
    {
      "cell_type": "markdown",
      "source": [
        "**Problem #3**: product_price_analysis\n",
        "\n",
        "Write a program that receives a dictionary of products. Each #product has a unique code as key, and its value is another #dictionary containing a `'name'` and a `'price'`. The #program should display the name and price of the cheapest #and the most expensive product."
      ],
      "metadata": {
        "id": "3clsh7vrdsQK"
      }
    },
    {
      "cell_type": "code",
      "source": [
        "#INPUTS NOMBRE Y PRECIO DE 3 PRODUCTOS\n",
        "names_products=input(\"nombre el primer producto: \")\n",
        "price_products=float(input(\"su precio: \")) #PRECIO EN 'float' PARA PODER COMPARALOS\n",
        "\n",
        "name_product1=input(\"nombre el segundo producto: \")\n",
        "price_product1=float(input(\"su precio: \"))\n",
        "\n",
        "name_product2=input(\"nombre el tercer producto: \")\n",
        "price_product2=float(input(\"su precio: \"))\n",
        "\n",
        "#DICCIONARIO DE PRODUCTOS\n",
        "products={\n",
        "    \"Producto1\": {\"nombre\": names_products, \"precio\": price_products},\n",
        "    \"Producto2\": {\"nombre\": name_product1, \"precio\": price_product1},\n",
        "    \"Producto3\": {\"nombre\": name_product2, \"precio\": price_product2}\n",
        "}\n",
        "\n",
        "#OUTPUTS\n",
        "\n",
        "def find_cheapest_and_most_expensive(products): #DEFINIR LA FUNCION Y RECIBE EL DICICONARIO\n",
        "    min_price = float('inf')  #\n",
        "    max_price = float('-inf')\n",
        "    cheapest_code = None\n",
        "    most_expensive_code = None\n",
        "    #GUARDAR LAS CLAVES DE LOS PRODUCTOS CARO Y BARATO\n",
        "\n",
        "    for code in products:\n",
        "        price = products[code][\"precio\"] # SE OBTIENE EL PRECIO DEL PRODUCTO\n",
        "\n",
        "        if price < min_price: #SI EL PRECIO ES MENOR QUE 'min_price' ACTUALIZA Y GUARDA LA CLAVE EN 'cheapest_code'\n",
        "            min_price = price\n",
        "            cheapest_code = code\n",
        "\n",
        "        if price > max_price: #SI EL PRECIO ES MAYOR QUE 'max_price' ACTUALIZA Y GUARDA LA CLAVE EN 'most_expensive_code'\n",
        "            max_price = price\n",
        "            most_expensive_code = code\n",
        "\n",
        "    return cheapest_code, most_expensive_code # RETORNA 2 VALORES: LAS CLAVES DE LOS PRODUCTOS BARATOS Y CAROS\n",
        "\n",
        "#SE ALMACENA EN 'cheapest' y 'most_expensive'\n",
        "cheapest, most_expensive = find_cheapest_and_most_expensive(products)\n",
        "\n",
        "#TEST1\n",
        "\n",
        "print(\"Producto más barato: \", products[cheapest][\"nombre\"], \"con su precio $ \", products[cheapest][\"precio\"])\n",
        "print(\"Producto más caro: \", products[most_expensive][\"nombre\"], \"con su precio $ \", products[most_expensive][\"precio\"])"
      ],
      "metadata": {
        "id": "ZHHLsFIvdo8e"
      },
      "execution_count": null,
      "outputs": []
    }
  ]
}