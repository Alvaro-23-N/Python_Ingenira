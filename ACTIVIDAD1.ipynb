{
  "nbformat": 4,
  "nbformat_minor": 0,
  "metadata": {
    "colab": {
      "provenance": [],
      "authorship_tag": "ABX9TyN9JlRtz4jnZhJnKJAKs0E9",
      "include_colab_link": true
    },
    "kernelspec": {
      "name": "python3",
      "display_name": "Python 3"
    },
    "language_info": {
      "name": "python"
    }
  },
  "cells": [
    {
      "cell_type": "markdown",
      "metadata": {
        "id": "view-in-github",
        "colab_type": "text"
      },
      "source": [
        "<a href=\"https://colab.research.google.com/github/Alvaro-23-N/Python_Ingenira/blob/main/ACTIVIDAD1.ipynb\" target=\"_parent\"><img src=\"https://colab.research.google.com/assets/colab-badge.svg\" alt=\"Open In Colab\"/></a>"
      ]
    },
    {
      "cell_type": "markdown",
      "source": [
        "Actividad 1"
      ],
      "metadata": {
        "id": "ob0j687yYr72"
      }
    },
    {
      "cell_type": "markdown",
      "source": [
        "Problem #1: letter_frequency\n",
        "Write a program that receives a sentence from the user and displays how many times each unique letter appears.\n",
        "Ignore spaces and make the comparison case-insensitive\n",
        "(i.e., treat 'A' and 'a' as the same letter).\n",
        "\n",
        "Bonus: Display the results sorted from the most frequent\n",
        "to the least frequent letter."
      ],
      "metadata": {
        "id": "82QHp5QxY4AG"
      }
    },
    {
      "cell_type": "code",
      "execution_count": 1,
      "metadata": {
        "colab": {
          "base_uri": "https://localhost:8080/"
        },
        "id": "ITfpx7AuYXwz",
        "outputId": "d3b4d78c-8054-4295-a20c-f41de4709883"
      },
      "outputs": [
        {
          "output_type": "stream",
          "name": "stdout",
          "text": [
            "Escriba su frase: tangamadapio\n",
            "Frecuencia de letras: \n",
            "'a': 4\n",
            "'t': 1\n",
            "'n': 1\n",
            "'g': 1\n",
            "'m': 1\n",
            "'d': 1\n",
            "'p': 1\n",
            "'i': 1\n",
            "'o': 1\n"
          ]
        }
      ],
      "source": [
        "\n",
        "#INPUTS\n",
        "sentence = input(\"Escriba su frase: \") #TOMA UNA FRASE\n",
        "\n",
        "#OUTPUTS\n",
        "def count_letters(sentence):\n",
        "  letter_count = {}\n",
        "  cleaner_sentence = sentence.replace(\" \", \"\").lower() #QUITAR TODOS LOS ESPACIOS Y CONVERTIRLOS EN MINUSCULA\n",
        "  for letter in cleaner_sentence:\n",
        "    if 'a' <= letter <= 'z': #FILTRA SOLO LAS LETRAS DEL ABECEDARIO\n",
        "      if letter in letter_count:\n",
        "        letter_count[letter] += 1 # SI LA LETRA ESTA EN EL DICIONARIO 'letter_count' SU CONTADOR AUMENTA 1\n",
        "      else:\n",
        "        letter_count[letter] = 1 #SINO SU VALOR INICIAL ES 1\n",
        "  return letter_count\n",
        "\n",
        "def sort_by_frequency(letter_count): #ORDENAR LAS LETRAS\n",
        "    letters = [] #LISTA 1\n",
        "    counts = [] #LISTA 2\n",
        "\n",
        "    #SE LLENA LA LISTA\n",
        "    for letter in letter_count:\n",
        "        letters.append(letter)\n",
        "        counts.append(letter_count[letter])\n",
        "\n",
        "    #ORDENA AMBAS LISTAS\n",
        "    for i in range(len(counts)):\n",
        "        for j in range(len(counts) - 1):\n",
        "            if counts[j] < counts[j + 1]:\n",
        "                counts[j], counts[j + 1] = counts[j + 1], counts[j]\n",
        "                letters[j], letters[j + 1] = letters[j + 1], letters[j]\n",
        "\n",
        "    return letters, counts\n",
        "\n",
        "#IMPRIME LAS LETRAS EN ORDEN DESENDENTE\n",
        "letter_count = count_letters(sentence)\n",
        "sorted_letters, sorted_counts = sort_by_frequency(letter_count)\n",
        "\n",
        "#TEST1\n",
        "print(\"Frecuencia de letras: \")\n",
        "for i in range(len(sorted_letters)):\n",
        "    print(f\"'{sorted_letters[i]}': {sorted_counts[i]}\")"
      ]
    }
  ]
}