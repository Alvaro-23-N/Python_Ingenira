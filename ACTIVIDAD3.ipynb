{
  "nbformat": 4,
  "nbformat_minor": 0,
  "metadata": {
    "colab": {
      "provenance": [],
      "authorship_tag": "ABX9TyPo3yR9GGdll+mSkqtVrSaz",
      "include_colab_link": true
    },
    "kernelspec": {
      "name": "python3",
      "display_name": "Python 3"
    },
    "language_info": {
      "name": "python"
    }
  },
  "cells": [
    {
      "cell_type": "markdown",
      "metadata": {
        "id": "view-in-github",
        "colab_type": "text"
      },
      "source": [
        "<a href=\"https://colab.research.google.com/github/Alvaro-23-N/Python_Ingenira/blob/main/ACTIVIDAD3.ipynb\" target=\"_parent\"><img src=\"https://colab.research.google.com/assets/colab-badge.svg\" alt=\"Open In Colab\"/></a>"
      ]
    },
    {
      "cell_type": "markdown",
      "source": [
        "Problem #3: product_price_analysis\n",
        "\n",
        "Write a program that receives a dictionary of products. Each #product has a unique code as key, and its value is another #dictionary containing a `'name'` and a `'price'`. The #program should display the name and price of the cheapest #and the most expensive product."
      ],
      "metadata": {
        "id": "kJZvxvkraWnR"
      }
    },
    {
      "cell_type": "code",
      "execution_count": 1,
      "metadata": {
        "colab": {
          "base_uri": "https://localhost:8080/"
        },
        "id": "f0QE_65caSWz",
        "outputId": "66070fde-4df7-4263-894d-213189385707"
      },
      "outputs": [
        {
          "output_type": "stream",
          "name": "stdout",
          "text": [
            "nombre el primer producto: MOUSE\n",
            "su precio: 5\n",
            "nombre el segundo producto: TOUCH\n",
            "su precio: 12\n",
            "nombre el tercer producto: MOTHERBOARD\n",
            "su precio: 45\n",
            "Producto más barato:  MOUSE con su precio $  5.0\n",
            "Producto más caro:  MOTHERBOARD con su precio $  45.0\n"
          ]
        }
      ],
      "source": [
        "\n",
        "#INPUTS NOMBRE Y PRECIO DE 3 PRODUCTOS\n",
        "names_products=input(\"nombre el primer producto: \")\n",
        "price_products=float(input(\"su precio: \")) #PRECIO EN 'float' PARA PODER COMPARALOS\n",
        "\n",
        "name_product1=input(\"nombre el segundo producto: \")\n",
        "price_product1=float(input(\"su precio: \"))\n",
        "\n",
        "name_product2=input(\"nombre el tercer producto: \")\n",
        "price_product2=float(input(\"su precio: \"))\n",
        "\n",
        "#DICCIONARIO DE PRODUCTOS\n",
        "products={\n",
        "    \"Producto1\": {\"nombre\": names_products, \"precio\": price_products},\n",
        "    \"Producto2\": {\"nombre\": name_product1, \"precio\": price_product1},\n",
        "    \"Producto3\": {\"nombre\": name_product2, \"precio\": price_product2}\n",
        "}\n",
        "\n",
        "#OUTPUTS\n",
        "\n",
        "def find_cheapest_and_most_expensive(products): #DEFINIR LA FUNCION Y RECIBE EL DICICONARIO\n",
        "    min_price = float('inf')  #\n",
        "    max_price = float('-inf')\n",
        "    cheapest_code = None\n",
        "    most_expensive_code = None\n",
        "    #GUARDAR LAS CLAVES DE LOS PRODUCTOS CARO Y BARATO\n",
        "\n",
        "    for code in products:\n",
        "        price = products[code][\"precio\"] # SE OBTIENE EL PRECIO DEL PRODUCTO\n",
        "\n",
        "        if price < min_price: #SI EL PRECIO ES MENOR QUE 'min_price' ACTUALIZA Y GUARDA LA CLAVE EN 'cheapest_code'\n",
        "            min_price = price\n",
        "            cheapest_code = code\n",
        "\n",
        "        if price > max_price: #SI EL PRECIO ES MAYOR QUE 'max_price' ACTUALIZA Y GUARDA LA CLAVE EN 'most_expensive_code'\n",
        "            max_price = price\n",
        "            most_expensive_code = code\n",
        "\n",
        "    return cheapest_code, most_expensive_code # RETORNA 2 VALORES: LAS CLAVES DE LOS PRODUCTOS BARATOS Y CAROS\n",
        "\n",
        "#SE ALMACENA EN 'cheapest' y 'most_expensive'\n",
        "cheapest, most_expensive = find_cheapest_and_most_expensive(products)\n",
        "\n",
        "#TEST1\n",
        "\n",
        "print(\"Producto más barato: \", products[cheapest][\"nombre\"], \"con su precio $ \", products[cheapest][\"precio\"])\n",
        "print(\"Producto más caro: \", products[most_expensive][\"nombre\"], \"con su precio $ \", products[most_expensive][\"precio\"])"
      ]
    }
  ]
}