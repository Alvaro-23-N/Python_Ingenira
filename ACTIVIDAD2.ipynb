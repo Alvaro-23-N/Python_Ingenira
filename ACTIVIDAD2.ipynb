{
  "nbformat": 4,
  "nbformat_minor": 0,
  "metadata": {
    "colab": {
      "provenance": [],
      "authorship_tag": "ABX9TyNhUD6ZtA6XcdsN3wVr20GJ",
      "include_colab_link": true
    },
    "kernelspec": {
      "name": "python3",
      "display_name": "Python 3"
    },
    "language_info": {
      "name": "python"
    }
  },
  "cells": [
    {
      "cell_type": "markdown",
      "metadata": {
        "id": "view-in-github",
        "colab_type": "text"
      },
      "source": [
        "<a href=\"https://colab.research.google.com/github/Alvaro-23-N/Python_Ingenira/blob/main/ACTIVIDAD2.ipynb\" target=\"_parent\"><img src=\"https://colab.research.google.com/assets/colab-badge.svg\" alt=\"Open In Colab\"/></a>"
      ]
    },
    {
      "cell_type": "markdown",
      "source": [
        "Problem #2: word_initial_count\n",
        "Write a program that receives a list of words and counts how many of them start with the same initial letter. Ignore case sensitivity.\n"
      ],
      "metadata": {
        "id": "JVWOpcRrZxQH"
      }
    },
    {
      "cell_type": "code",
      "execution_count": 2,
      "metadata": {
        "colab": {
          "base_uri": "https://localhost:8080/"
        },
        "id": "AdkJ8q4OZulZ",
        "outputId": "82fb5542-3ed8-40b6-8c80-ae909b059826"
      },
      "outputs": [
        {
          "output_type": "stream",
          "name": "stdout",
          "text": [
            "Escribe varias palabras: TANGO, MANGO, SASON\n",
            "lista:  {'t': 1, 'm': 1, 's': 1}\n"
          ]
        }
      ],
      "source": [
        "\n",
        "#INPUTS\n",
        "users_date=input(\"Escribe varias palabras: \") #CREAR UN LISTA DE PALABRAS\n",
        "words=users_date.split() #SEPARA LAS PALABRAS POR ESPACIOS\n",
        "\n",
        "#OUTPUTS\n",
        "def count_initial_letters(words): #CONTAR LAS PALABRAS QUE EMPIEZAN CON CADA LETRA INICIAL\n",
        "    letter_count={} #SE CREA UN DICIONARIO VACIO\n",
        "\n",
        "    for word in words: #LA PRIMERA LETRA SE AÑADE A 'word'\n",
        "        first_letter=word[0].lower() #LA PASA A MINUSCULA\n",
        "\n",
        "        if first_letter in letter_count:\n",
        "            letter_count[first_letter]+=1 #SI LA LETRA INICIAL ESTA EN EL DICIONARIO + 1\n",
        "        else:\n",
        "            letter_count[first_letter]=1 #SI NO AÑADE VALOR INICAL 1\n",
        "\n",
        "    return letter_count\n",
        "\n",
        "#TEST1\n",
        "print(\"lista: \", count_initial_letters(words)) #LLAMA A LA FUNCION 'count_initial_letters' CON LA LISTA 'words'\n"
      ]
    }
  ]
}