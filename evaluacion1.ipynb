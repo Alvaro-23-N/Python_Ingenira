{
  "nbformat": 4,
  "nbformat_minor": 0,
  "metadata": {
    "colab": {
      "provenance": [],
      "authorship_tag": "ABX9TyMku2PM0NNg1UMGaoB1VvT5",
      "include_colab_link": true
    },
    "kernelspec": {
      "name": "python3",
      "display_name": "Python 3"
    },
    "language_info": {
      "name": "python"
    }
  },
  "cells": [
    {
      "cell_type": "markdown",
      "metadata": {
        "id": "view-in-github",
        "colab_type": "text"
      },
      "source": [
        "<a href=\"https://colab.research.google.com/github/Alvaro-23-N/Python_Ingenira/blob/main/evaluacion1.ipynb\" target=\"_parent\"><img src=\"https://colab.research.google.com/assets/colab-badge.svg\" alt=\"Open In Colab\"/></a>"
      ]
    },
    {
      "cell_type": "markdown",
      "source": [
        "EVALUACION 1\n"
      ],
      "metadata": {
        "id": "ESyTq6V-WGxU"
      }
    },
    {
      "cell_type": "markdown",
      "source": [
        "problema 1:"
      ],
      "metadata": {
        "id": "jEfxyJWZWoI2"
      }
    },
    {
      "cell_type": "code",
      "source": [
        "import random\n",
        "\n",
        "subject = [\"Mami\", \"Bebé\", \"Princess\"]\n",
        "intention = [\"yo quiero\", \"yo puedo\", \"yo vengo a\", \"voy a\"]\n",
        "action = [\"encendelte\", \"amalte\", \"ligar\", \"jugar\"]\n",
        "adjective = [\"suave\", \"lento\", \"rápido\", \"fuerte\"]\n",
        "compl_1 = [\"hasta que salga el sol\", \"toda la noche\", \"hasta el amanecer\", \"todo el día\"]\n",
        "compl_2 = [\"sin anestecia\", \"sin compromiso\", \"feis to feis\", \"sin miedo\"]\n",
        "\n",
        "elements = [subject, intention, action, adjective, compl_1, compl_2]\n",
        "\n",
        "song = \"\"\n",
        "for element in elements:\n",
        "    song += random.choice(element) + \" \"\n",
        "\n",
        "print(song)"
      ],
      "metadata": {
        "colab": {
          "base_uri": "https://localhost:8080/"
        },
        "id": "rVhlPfTgSs_E",
        "outputId": "25bd0548-c201-4cb5-9bc7-6c58d646b531"
      },
      "execution_count": null,
      "outputs": [
        {
          "output_type": "stream",
          "name": "stdout",
          "text": [
            "Mami yo puedo amalte lento hasta el amanecer sin compromiso \n"
          ]
        }
      ]
    },
    {
      "cell_type": "markdown",
      "source": [
        "DOCENTE: Miguel Ortiz\n",
        "\n",
        "ESTUDIANTE:Alvaro Negrette\n",
        "\n",
        "FECHA:21/07/2025"
      ],
      "metadata": {
        "id": "pbW6wreZSuWc"
      }
    }
  ]
}